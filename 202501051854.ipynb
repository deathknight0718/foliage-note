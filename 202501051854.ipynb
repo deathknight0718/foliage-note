{
 "cells": [
  {
   "cell_type": "markdown",
   "metadata": {},
   "source": [
    "## 一元线性回归"
   ]
  },
  {
   "cell_type": "markdown",
   "metadata": {},
   "source": [
    "线性回归是一种统计方法，用于研究两个或多个变量之间的线性关系。其目的是通过拟合一条直线来预测因变量（目标变量）与自变量（特征变量）之间的关系。线性回归模型可以表示为：\n",
    "\n",
    "$$ y = wx + b $$\n",
    "\n",
    "其中：\n",
    "- $ y $ 是因变量\n",
    "- $ x $ 是自变量\n",
    "- $ w $ 是斜率（表示自变量对因变量的影响程度）\n",
    "- $ b $ 是截距（表示当自变量为零时，因变量的值）\n",
    "\n",
    "线性回归广泛应用于经济学、金融学、社会科学和自然科学等领域，用于预测和解释变量之间的关系。"
   ]
  },
  {
   "cell_type": "markdown",
   "metadata": {},
   "source": [
    "### 基础环境配置"
   ]
  },
  {
   "cell_type": "code",
   "execution_count": 1,
   "metadata": {},
   "outputs": [],
   "source": [
    "import numpy\n",
    "import matplotlib.pyplot\n",
    "import pandas\n",
    "\n",
    "matplotlib.pyplot.style.use(\"matplotlib.mplstyle\")"
   ]
  },
  {
   "cell_type": "markdown",
   "metadata": {},
   "source": [
    "### 读取 CSV 数据集"
   ]
  },
  {
   "cell_type": "code",
   "execution_count": 2,
   "metadata": {},
   "outputs": [],
   "source": [
    "data = pandas.read_csv(\"data/202501061035.csv\")\n",
    "\n",
    "X = (data[\"size\"]/1000).to_numpy()\n",
    "Y = (data[\"price\"]/1000).to_numpy()"
   ]
  },
  {
   "cell_type": "markdown",
   "metadata": {},
   "source": [
    "### 输出统计坐标系"
   ]
  },
  {
   "cell_type": "code",
   "execution_count": null,
   "metadata": {},
   "outputs": [],
   "source": [
    "matplotlib.pyplot.scatter(X, Y, marker=\"x\", c=\"r\")\n",
    "matplotlib.pyplot.title(\"Example House Prices\")\n",
    "matplotlib.pyplot.ylabel(\"Price (in 1000s of dollars)\")\n",
    "matplotlib.pyplot.xlabel(\"Size (1000 sqft)\")\n",
    "matplotlib.pyplot.show()"
   ]
  },
  {
   "cell_type": "markdown",
   "metadata": {},
   "source": [
    "### 一元线性回归相关公式定义\n",
    "\n",
    "|名称|定义|\n",
    "|-|-|\n",
    "|一阶线性函数|$ f_{w,b}(x^{(i)})=wx^{(i)}+b $|\n",
    "|均方误差公式|$ MSE(w,b)=\\frac{1}{2n}\\sum_{i=1}^n(f_{w,b}(x^{(i)}) - \\hat{y}^{(i)})^2 $|\n",
    "|梯度下降公式|$ w=w-\\alpha\\cdot\\frac{\\partial{MSE(w,b)}}{\\partial{w}},b=b-\\alpha\\cdot\\frac{\\partial{MSE(w,b)}}{\\partial{b}} $|\n",
    "\n",
    "此处涉及偏导数的推导：\n",
    "$$ \\frac{\\alpha{MSE(w,b)}}{\\alpha{w}}=\\frac{1}{2n}\\sum_{i=1}^n\\frac{\\alpha}{\\alpha{w}}[(wx^{(i)}+b-y^{(i)})^2] $$\n",
    "根据微积分的链式法则：\n",
    "$$ y=f(g(x))=>\\frac{dy}{dx}=\\frac{df}{dg}\\cdot\\frac{dg}{dx} $$\n",
    "将下面的推导带入：\n",
    "$$\n",
    "g(x^{(i)})=wx^{(i)}+b-y^{(i)}, \\\\\n",
    "MSE(w,b)=\\frac{1}{2n}\\sum_{i=1}^n(g(x^{(i)}))^2 \\\\\n",
    "=>w=w-\\alpha\\cdot\\frac{\\partial{MSE(w,b)}}{\\partial{w}}=w-\\alpha\\cdot\\frac{1}{n}\\sum_{i=1}^n(wx^{(i)} + b - \\hat{y}^{(i)})\\cdot{x^{(i)}}\n",
    "$$"
   ]
  },
  {
   "cell_type": "code",
   "execution_count": 4,
   "metadata": {},
   "outputs": [],
   "source": [
    "def compute_mse(X, Y, W, B):\n",
    "    n = X.shape[0]\n",
    "    f_wb = W[..., numpy.newaxis] * X + B[..., numpy.newaxis]\n",
    "    mse = numpy.sum((f_wb - Y) ** 2, axis=-1) / (2 * n)\n",
    "    return mse"
   ]
  },
  {
   "cell_type": "markdown",
   "metadata": {},
   "source": [
    "### 梯度值计算"
   ]
  },
  {
   "cell_type": "code",
   "execution_count": 5,
   "metadata": {},
   "outputs": [],
   "source": [
    "def compute_gradient(X, Y, w, b):\n",
    "    n = X.shape[0]\n",
    "    f_wb = w * X + b\n",
    "    dw = numpy.sum((f_wb - Y) * X) / n\n",
    "    db = numpy.sum(f_wb - Y) / n\n",
    "    return dw, db\n"
   ]
  },
  {
   "cell_type": "markdown",
   "metadata": {},
   "source": [
    "### 梯度下降计算"
   ]
  },
  {
   "cell_type": "code",
   "execution_count": 6,
   "metadata": {},
   "outputs": [],
   "source": [
    "import math\n",
    "\n",
    "def compute_gradient_descent(X, Y, alpha, iters):\n",
    "    tw, tb = 500, 300\n",
    "    tws, tbs = [], []\n",
    "    for i in range(iters):\n",
    "        dw, db = compute_gradient(X, Y, tw, tb)\n",
    "        tw = tw - alpha * dw\n",
    "        tb = tb - alpha * db\n",
    "        if i % math.ceil(iters / 10) == 0:\n",
    "            tws.append([tw])\n",
    "            tbs.append([tb])\n",
    "            print(f\"w: {tw: 0.3e}, b:{tb: 0.5e}\")\n",
    "    tws = numpy.array(tws)\n",
    "    tbs = numpy.array(tbs)\n",
    "    mse = compute_mse(X, Y, tws, tbs)\n",
    "    points = numpy.column_stack((tws, tbs, mse))\n",
    "    return tw, tb, points\n"
   ]
  },
  {
   "cell_type": "markdown",
   "metadata": {},
   "source": [
    "### 执行训练"
   ]
  },
  {
   "cell_type": "code",
   "execution_count": null,
   "metadata": {},
   "outputs": [],
   "source": [
    "fw, fb, points = compute_gradient_descent(X, Y, 0.01, 100)\n",
    "\n",
    "print(f\"(w,b) found by gradient descent: ({fw:8.4f},{fb:8.4f})\")"
   ]
  },
  {
   "cell_type": "markdown",
   "metadata": {},
   "source": [
    "### 绘制计算过程"
   ]
  },
  {
   "cell_type": "code",
   "execution_count": null,
   "metadata": {},
   "outputs": [],
   "source": [
    "%config InlineBackend.print_figure_kwargs = {\"bbox_inches\": None}\n",
    "\n",
    "W = numpy.arange(-100, 500, 5)\n",
    "B = numpy.arange(-300, 300, 5)\n",
    "W, B = numpy.meshgrid(W, B)\n",
    "Z = compute_mse(X, Y, W, B)\n",
    "\n",
    "figure = matplotlib.pyplot.figure()\n",
    "axes = figure.add_subplot(projection=\"3d\")\n",
    "surface = axes.plot_surface(W, B, Z, cmap=matplotlib.cm.Blues, alpha=0.75)\n",
    "\n",
    "axes.view_init(elev=25, azim=145, roll=0)\n",
    "axes.set_title(\"Gradient Descent\")\n",
    "axes.set_xlabel(\"W Values\")\n",
    "axes.set_ylabel(\"B Values\")\n",
    "axes.set_zlabel(\"MSE Values\", labelpad=10)\n",
    "\n",
    "tws, tbs, mse = points[:, 0], points[:, 1], points[:, 2]\n",
    "axes.plot3D(tws, tbs, mse, color=\"red\", linewidth=2, label=\"Gradient Descent Path\")\n",
    "axes.legend(bbox_to_anchor=(2, 0.5))\n",
    "axes.set_box_aspect([2, 2, 1]) \n",
    "\n",
    "matplotlib.pyplot.show()"
   ]
  },
  {
   "cell_type": "code",
   "execution_count": null,
   "metadata": {},
   "outputs": [],
   "source": [
    "matplotlib.pyplot.scatter(X, Y, marker=\"x\", c=\"r\")\n",
    "matplotlib.pyplot.plot(X, fw * X + fb, color=\"blue\", label=f\"y = {fw}x + {fb}\")\n",
    "matplotlib.pyplot.title(\"Example House Prices\")\n",
    "matplotlib.pyplot.ylabel(\"Price (in 1000s of dollars)\")\n",
    "matplotlib.pyplot.xlabel(\"Size (1000 sqft)\")\n",
    "matplotlib.pyplot.show()"
   ]
  }
 ],
 "metadata": {
  "kernelspec": {
   "display_name": "dev01",
   "language": "python",
   "name": "python3"
  },
  "language_info": {
   "codemirror_mode": {
    "name": "ipython",
    "version": 3
   },
   "file_extension": ".py",
   "mimetype": "text/x-python",
   "name": "python",
   "nbconvert_exporter": "python",
   "pygments_lexer": "ipython3",
   "version": "3.12.7"
  }
 },
 "nbformat": 4,
 "nbformat_minor": 2
}
