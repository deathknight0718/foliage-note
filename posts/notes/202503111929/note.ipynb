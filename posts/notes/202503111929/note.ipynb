{
 "cells": [
  {
   "cell_type": "markdown",
   "metadata": {},
   "source": [
    "---\n",
    "title: \"人工智能 - 基于 Pytorch 的神经网络高效实现\"\n",
    "date: 2025-05-05T21:40:32+08:00\n",
    "author: \"Liu Zheng\"\n",
    "tags: [\"笔记\", \"实验\"]\n",
    "categories: \"实验笔记\"\n",
    "---"
   ]
  },
  {
   "cell_type": "markdown",
   "metadata": {},
   "source": [
    "## 基于 Pytorch 的神经网络高效实现"
   ]
  },
  {
   "cell_type": "markdown",
   "metadata": {},
   "source": [
    "做一个练习，寻找一个文本分类的大模型，找一个数据集，对其实现向量化和分类标注数据整理。然后自己构建神经网络层，实现简单的训练与推理。"
   ]
  },
  {
   "cell_type": "markdown",
   "metadata": {},
   "source": [
    "找到了一个中文的数据集 [Qilin](https://huggingface.co/datasets/THUIR/Qilin) ，相关文献 [参考](https://arxiv.org/html/2503.00501v1) 。\n",
    "\n",
    "准备利用 [BERT](https://huggingface.co/google-bert/bert-base-chinese?clone=true) 模型实现向量化。"
   ]
  },
  {
   "cell_type": "code",
   "execution_count": 1,
   "metadata": {},
   "outputs": [],
   "source": [
    "import os\n",
    "import torch\n",
    "import pandas\n",
    "import numpy\n",
    "import matplotlib.pyplot\n",
    "from transformers import AutoTokenizer, AutoModel\n",
    "from IPython.display import display\n",
    "\n",
    "matplotlib.pyplot.style.use(\"matplotlib.mplstyle\")\n",
    "\n",
    "if os.name == 'posix':  # Linux 或 macOS\n",
    "    PREFIX = '/home/foliage/projects'\n",
    "elif os.name == 'nt':  # Windows\n",
    "    PREFIX = 'D:/Projects'\n",
    "else:\n",
    "    raise OSError(\"Unsupported operating system.\")\n",
    "\n",
    "# 输出路径 & 数据路径 & 模型路径加载\n",
    "PATH_OUTPUT, PATH_DATASET, PATH_MODEL = \"./202503122138.parquet\", f\"{PREFIX}/huggingface-qilin/dqa/train-00000-of-00001.parquet\", f\"{PREFIX}/huggingface-bert-base-chinese\"\n",
    "\n",
    "# 设置 GPU\n",
    "DEVICE0, DEVICE1 = torch.device(\"cuda:0\"), torch.device(\"cuda:1\")"
   ]
  },
  {
   "cell_type": "markdown",
   "metadata": {},
   "source": [
    "我们选择量化的 `query` 列和 `is_like_clk` 列进行相关实验来进行相关训练，`is_like_clk` 列是对该条回答内容的点赞、差评相关操作。接下来，我们使用 `google-bert` 模型实现文本向量化，形成一个(728)的向量。 "
   ]
  },
  {
   "cell_type": "code",
   "execution_count": 2,
   "metadata": {},
   "outputs": [
    {
     "name": "stdout",
     "output_type": "stream",
     "text": [
      "<class 'pandas.core.frame.DataFrame'>\n",
      "RangeIndex: 6972 entries, 0 to 6971\n",
      "Data columns (total 15 columns):\n",
      " #   Column                          Non-Null Count  Dtype  \n",
      "---  ------                          --------------  -----  \n",
      " 0   query                           6972 non-null   object \n",
      " 1   query_from_type                 6972 non-null   float64\n",
      " 2   dqa_output                      6972 non-null   object \n",
      " 3   is_like_clk                     6972 non-null   float64\n",
      " 4   is_onebox_trace_clk             6972 non-null   float64\n",
      " 5   is_content_clk                  6972 non-null   float64\n",
      " 6   is_experience_clk               6972 non-null   float64\n",
      " 7   recent_clicked_note_idxs        6972 non-null   object \n",
      " 8   ref_note_idx_list               6972 non-null   object \n",
      " 9   session_idx                     6972 non-null   int64  \n",
      " 10  search_idx                      6972 non-null   int64  \n",
      " 11  user_idx                        6972 non-null   int64  \n",
      " 12  bm25_results                    6972 non-null   object \n",
      " 13  dpr_results                     6972 non-null   object \n",
      " 14  search_result_details_with_idx  6972 non-null   object \n",
      "dtypes: float64(5), int64(3), object(7)\n",
      "memory usage: 817.2+ KB\n"
     ]
    },
    {
     "data": {
      "text/plain": [
       "None"
      ]
     },
     "metadata": {},
     "output_type": "display_data"
    },
    {
     "data": {
      "text/html": [
       "<div>\n",
       "<style scoped>\n",
       "    .dataframe tbody tr th:only-of-type {\n",
       "        vertical-align: middle;\n",
       "    }\n",
       "\n",
       "    .dataframe tbody tr th {\n",
       "        vertical-align: top;\n",
       "    }\n",
       "\n",
       "    .dataframe thead th {\n",
       "        text-align: right;\n",
       "    }\n",
       "</style>\n",
       "<table border=\"1\" class=\"dataframe\">\n",
       "  <thead>\n",
       "    <tr style=\"text-align: right;\">\n",
       "      <th></th>\n",
       "      <th>query</th>\n",
       "      <th>is_like_clk</th>\n",
       "      <th>is_onebox_trace_clk</th>\n",
       "      <th>is_content_clk</th>\n",
       "      <th>is_experience_clk</th>\n",
       "      <th>embeddings</th>\n",
       "    </tr>\n",
       "  </thead>\n",
       "  <tbody>\n",
       "    <tr>\n",
       "      <th>0</th>\n",
       "      <td>珠海长隆长隆秀一定要海洋馆吗</td>\n",
       "      <td>-1.0</td>\n",
       "      <td>-1.0</td>\n",
       "      <td>-1.0</td>\n",
       "      <td>-1.0</td>\n",
       "      <td>[0.13953915238380432, 0.3353746235370636, -0.2...</td>\n",
       "    </tr>\n",
       "    <tr>\n",
       "      <th>1</th>\n",
       "      <td>高级经济师报考条件</td>\n",
       "      <td>0.0</td>\n",
       "      <td>0.0</td>\n",
       "      <td>1.0</td>\n",
       "      <td>0.0</td>\n",
       "      <td>[0.21797794103622437, -0.10418368875980377, -0...</td>\n",
       "    </tr>\n",
       "    <tr>\n",
       "      <th>2</th>\n",
       "      <td>仙山小农紫薇星君喜好</td>\n",
       "      <td>-1.0</td>\n",
       "      <td>-1.0</td>\n",
       "      <td>-1.0</td>\n",
       "      <td>-1.0</td>\n",
       "      <td>[0.14661112427711487, -0.2250421941280365, -0....</td>\n",
       "    </tr>\n",
       "    <tr>\n",
       "      <th>3</th>\n",
       "      <td>国考准考证怎么下载</td>\n",
       "      <td>0.0</td>\n",
       "      <td>0.0</td>\n",
       "      <td>1.0</td>\n",
       "      <td>0.0</td>\n",
       "      <td>[0.4250069260597229, 0.09523293375968933, -0.2...</td>\n",
       "    </tr>\n",
       "    <tr>\n",
       "      <th>4</th>\n",
       "      <td>国考准考证证件号码</td>\n",
       "      <td>-1.0</td>\n",
       "      <td>-1.0</td>\n",
       "      <td>-1.0</td>\n",
       "      <td>-1.0</td>\n",
       "      <td>[0.09491205960512161, -0.0041047148406505585, ...</td>\n",
       "    </tr>\n",
       "  </tbody>\n",
       "</table>\n",
       "</div>"
      ],
      "text/plain": [
       "            query  is_like_clk  is_onebox_trace_clk  is_content_clk  \\\n",
       "0  珠海长隆长隆秀一定要海洋馆吗         -1.0                 -1.0            -1.0   \n",
       "1       高级经济师报考条件          0.0                  0.0             1.0   \n",
       "2      仙山小农紫薇星君喜好         -1.0                 -1.0            -1.0   \n",
       "3       国考准考证怎么下载          0.0                  0.0             1.0   \n",
       "4       国考准考证证件号码         -1.0                 -1.0            -1.0   \n",
       "\n",
       "   is_experience_clk                                         embeddings  \n",
       "0               -1.0  [0.13953915238380432, 0.3353746235370636, -0.2...  \n",
       "1                0.0  [0.21797794103622437, -0.10418368875980377, -0...  \n",
       "2               -1.0  [0.14661112427711487, -0.2250421941280365, -0....  \n",
       "3                0.0  [0.4250069260597229, 0.09523293375968933, -0.2...  \n",
       "4               -1.0  [0.09491205960512161, -0.0041047148406505585, ...  "
      ]
     },
     "metadata": {},
     "output_type": "display_data"
    }
   ],
   "source": [
    "TOKENIZER, MODEL1 = AutoTokenizer.from_pretrained(PATH_MODEL), AutoModel.from_pretrained(PATH_MODEL).to(DEVICE1)\n",
    "\n",
    "# 嵌入式向量\n",
    "def embedding_text(texts):\n",
    "    inputs = TOKENIZER(texts, return_tensors='pt', padding=True, truncation=True).to(DEVICE1)\n",
    "    with torch.no_grad():\n",
    "        outputs = MODEL1(**inputs)\n",
    "    state = outputs.last_hidden_state\n",
    "    return torch.mean(state, dim=1) # 平均池化操作\n",
    "\n",
    "def embeddings_collect(batch):\n",
    "    embeddings = []\n",
    "    source = pandas.read_parquet(PATH_DATASET)\n",
    "    display(source.info())\n",
    "    for i in range(0, source[\"query\"].size, batch):\n",
    "        rows = source[\"query\"][i:i + batch]\n",
    "        batched_embeddings = embedding_text(rows.tolist()).tolist()\n",
    "        embeddings.extend(batched_embeddings)\n",
    "    return pandas.concat([source[\"query\"], source[[\"is_like_clk\", \"is_onebox_trace_clk\", \"is_content_clk\", \"is_experience_clk\"]], pandas.DataFrame({\"embeddings\": embeddings})], axis=1)\n",
    "\n",
    "if not os.path.exists(PATH_OUTPUT):\n",
    "    DATASET = embeddings_collect(32)\n",
    "    DATASET.to_parquet(PATH_OUTPUT)\n",
    "else:\n",
    "    DATASET = pandas.read_parquet(PATH_OUTPUT)\n",
    "\n",
    "display(DATASET.head())"
   ]
  },
  {
   "cell_type": "markdown",
   "metadata": {},
   "source": [
    "我们得到了向量列 `embeddings` 现在我们需要进行逻辑回归训练，建立一个单层的神经网络。"
   ]
  },
  {
   "cell_type": "code",
   "execution_count": 3,
   "metadata": {},
   "outputs": [
    {
     "name": "stdout",
     "output_type": "stream",
     "text": [
      "         LOSS\n",
      "0  5.1649e-01\n",
      "1  4.9098e-01\n",
      "2  4.7522e-01\n",
      "3  4.6480e-01\n",
      "4  4.5764e-01\n",
      "5  4.5206e-01\n",
      "6  4.4755e-01\n",
      "7  4.4380e-01\n",
      "8  4.4061e-01\n",
      "9  4.3785e-01\n",
      "10 4.3544e-01\n",
      "11 4.3331e-01\n",
      "12 4.3142e-01\n",
      "13 4.2972e-01\n",
      "14 4.2819e-01\n",
      "15 4.2680e-01\n",
      "16 4.2554e-01\n",
      "17 4.2438e-01\n",
      "18 4.2332e-01\n",
      "19 4.2234e-01\n"
     ]
    }
   ],
   "source": [
    "# 定义逻辑回归模型\n",
    "class LogisticRegression(torch.nn.Module):\n",
    "    def __init__(self):\n",
    "        super(LogisticRegression, self).__init__()\n",
    "        self.linear = torch.nn.Linear(768, 1)\n",
    "\n",
    "    def forward(self, x):\n",
    "        return torch.sigmoid(self.linear(x))\n",
    "    \n",
    "MODEL2 = LogisticRegression().to(DEVICE0)\n",
    "DATASET_FILTERED = DATASET[DATASET[\"is_like_clk\"] != 1] # 点赞率太低的数据过滤\n",
    "\n",
    "# 定义损失函数和优化器\n",
    "CRITERION, OPTIMIZER = torch.nn.BCELoss(), torch.optim.Adam(MODEL2.parameters(), lr=0.01)\n",
    "\n",
    "X = torch.from_numpy(numpy.array(DATASET_FILTERED[\"embeddings\"].tolist(), dtype=numpy.float32)).to(DEVICE0)\n",
    "Y = (torch.from_numpy(numpy.array(DATASET_FILTERED[\"is_like_clk\"].tolist(), dtype=numpy.float32)) + 1).unsqueeze(1).to(DEVICE0)\n",
    "\n",
    "# 手动训练\n",
    "HISTORY = []\n",
    "EPOCHS = 200\n",
    "for epoch in range(EPOCHS):\n",
    "    pred = MODEL2(X) # 前向传播\n",
    "    loss = CRITERION(pred, Y) # 损失计算\n",
    "    OPTIMIZER.zero_grad() # 清除梯度\n",
    "    loss.backward() # 计算梯度\n",
    "    OPTIMIZER.step() # 更新参数\n",
    "    if (epoch + 1) % 10 == 0:\n",
    "        dict = MODEL2.state_dict()\n",
    "        HISTORY.append([loss.item()])\n",
    "\n",
    "print(pandas.DataFrame(HISTORY, columns=[\"LOSS\"]).to_string(formatters={\"LOSS\": '{:.4e}'.format}))"
   ]
  },
  {
   "cell_type": "markdown",
   "metadata": {},
   "source": [
    "我们通过图标来展示代价函数计算的梯度"
   ]
  },
  {
   "cell_type": "code",
   "execution_count": 4,
   "metadata": {},
   "outputs": [
    {
     "data": {
      "image/png": "[encoded data removed]",
      "text/plain": [
       "<Figure size 1280x480 with 1 Axes>"
      ]
     },
     "metadata": {},
     "output_type": "display_data"
    }
   ],
   "source": [
    "def draw_gradient_descent_cost_history(history, figure):\n",
    "    axes1 = figure.add_subplot()\n",
    "    axes1.plot(history, label=\"Cost\")\n",
    "    axes1.set_title(\"Gradient Descent Cost History\")\n",
    "    axes1.set_ylabel(\"Cost\")\n",
    "    axes1.set_xlabel(\"Iteration\")\n",
    "    axes1.legend()\n",
    "\n",
    "draw_gradient_descent_cost_history(HISTORY, matplotlib.pyplot.figure())\n",
    "\n",
    "matplotlib.pyplot.show()"
   ]
  },
  {
   "cell_type": "markdown",
   "metadata": {},
   "source": [
    "接下来进行推理，需要注意的是，这是一个简化逻辑回归，单层神经网络，它默认特征与分类呈现线性关系。\n",
    "\n",
    "但是在现实生活中，特征和预测值之间呈现的是非线性关系，所以一定程度上使用的应该是多层神经网络，甚至于个人猜测，特征工程也缺少相关的信息。"
   ]
  },
  {
   "cell_type": "code",
   "execution_count": 5,
   "metadata": {},
   "outputs": [
    {
     "name": "stdout",
     "output_type": "stream",
     "text": [
      "Logistic for label: tensor([[0.7504]], device='cuda:0')\n"
     ]
    }
   ],
   "source": [
    "features = [\"北京怎么了突然刮大风\"]\n",
    "SAMPLE = embedding_text(features).to(DEVICE0)\n",
    "\n",
    "with torch.no_grad():\n",
    "    label = MODEL2(SAMPLE)\n",
    "\n",
    "print(f\"Logistic for label: {label}\")"
   ]
  }
 ],
 "metadata": {
  "kernelspec": {
   "display_name": "dev01",
   "language": "python",
   "name": "python3"
  },
  "language_info": {
   "codemirror_mode": {
    "name": "ipython",
    "version": 3
   },
   "file_extension": ".py",
   "mimetype": "text/x-python",
   "name": "python",
   "nbconvert_exporter": "python",
   "pygments_lexer": "ipython3",
   "version": "3.9.21"
  }
 },
 "nbformat": 4,
 "nbformat_minor": 2
}
