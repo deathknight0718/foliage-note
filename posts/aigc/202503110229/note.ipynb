{
 "cells": [
  {
   "cell_type": "markdown",
   "metadata": {},
   "source": [
    "---\n",
    "title: \"人工智能 - 基于 Transformer 的语言分类器\"\n",
    "date: 2025-05-05T21:40:32+08:00\n",
    "author: \"Liu Zheng\"\n",
    "tags: [\"笔记\", \"实验\"]\n",
    "categories: \"实验笔记\"\n",
    "---"
   ]
  },
  {
   "cell_type": "markdown",
   "metadata": {},
   "source": [
    "## 基于 Transformer 的语言分类器"
   ]
  },
  {
   "cell_type": "markdown",
   "metadata": {},
   "source": [
    "做一个练习，寻找一个文本分类的大模型，找一个医疗问答数据集，对其实现向量化和分类标注数据。然后自己构建神经网络层，实现简单的训练与推理。"
   ]
  },
  {
   "cell_type": "markdown",
   "metadata": {},
   "source": [
    "选择文本分类模型 [Roberta](https://huggingface.co/papluca/xlm-roberta-base-language-detection)，该模型为基础分类模型"
   ]
  },
  {
   "cell_type": "code",
   "execution_count": 4,
   "metadata": {},
   "outputs": [],
   "source": [
    "import os\n",
    "import torch\n",
    "\n",
    "if os.name == 'posix':  # Linux 或 macOS\n",
    "    PREFIX = '/home/foliage/projects'\n",
    "elif os.name == 'nt':  # Windows\n",
    "    PREFIX = 'D:/Projects'\n",
    "else:\n",
    "    raise OSError(\"Unsupported operating system.\")\n",
    "\n",
    "# 模型路径加载\n",
    "MODEL_PATH = f\"{PREFIX}/huggingface-xlm-roberta-base-language-detection\"\n",
    "\n",
    "# 设置 GPU\n",
    "DEVICE = torch.device('cuda:0')"
   ]
  },
  {
   "cell_type": "markdown",
   "metadata": {},
   "source": [
    "下方代码为基于 Pipeline 的简单的语言分类推理"
   ]
  },
  {
   "cell_type": "code",
   "execution_count": 5,
   "metadata": {},
   "outputs": [
    {
     "name": "stderr",
     "output_type": "stream",
     "text": [
      "Device set to use cuda:0\n"
     ]
    },
    {
     "data": {
      "text/plain": [
       "[[{'label': 'en', 'score': 0.8889274001121521}],\n",
       " [{'label': 'zh', 'score': 0.9208274483680725}]]"
      ]
     },
     "execution_count": 5,
     "metadata": {},
     "output_type": "execute_result"
    }
   ],
   "source": [
    "from transformers import pipeline\n",
    "\n",
    "text = [\n",
    "    'Brevity is the soul of wit.',\n",
    "    '你大爷终归是你大爷'\n",
    "]\n",
    "\n",
    "pipe = pipeline('text-classification', model=MODEL_PATH, device=DEVICE)\n",
    "pipe(text, top_k=1, truncation=True)"
   ]
  },
  {
   "cell_type": "markdown",
   "metadata": {},
   "source": [
    "下方为分词器形式推理示例："
   ]
  },
  {
   "cell_type": "code",
   "execution_count": 6,
   "metadata": {},
   "outputs": [
    {
     "name": "stdout",
     "output_type": "stream",
     "text": [
      "Model Max Length: 512, Model Max Position Embeddings: 514\n",
      "Input IDs Shape: torch.Size([2, 512])\n",
      "Attention Mask Shape: torch.Size([2, 512])\n"
     ]
    },
    {
     "data": {
      "text/plain": [
       "{'en': 0.8889275193214417, 'zh': 0.9935047626495361}"
      ]
     },
     "execution_count": 6,
     "metadata": {},
     "output_type": "execute_result"
    }
   ],
   "source": [
    "from transformers import AutoModelForSequenceClassification, AutoTokenizer\n",
    "\n",
    "texts = [\n",
    "    'Brevity is the soul of wit.',\n",
    "    '非常重要的两个参数。它们的作用是确保输入文本的长度符合模型的要求。'\n",
    "]\n",
    "\n",
    "tokenizer = AutoTokenizer.from_pretrained(MODEL_PATH)\n",
    "model = AutoModelForSequenceClassification.from_pretrained(MODEL_PATH).to(DEVICE)\n",
    "\n",
    "inputs = tokenizer(texts, padding='max_length', truncation=True, return_tensors='pt')\n",
    "inputs = {k: v.to(DEVICE) for k, v in inputs.items()}\n",
    "\n",
    "print(f\"Model Max Length: {tokenizer.model_max_length}, Model Max Position Embeddings: {model.config.max_position_embeddings}\")\n",
    "print(f\"Input IDs Shape: {inputs['input_ids'].shape}\")\n",
    "print(f\"Attention Mask Shape: {inputs['attention_mask'].shape}\")\n",
    "\n",
    "with torch.no_grad():\n",
    "    outputs = model(**inputs)\n",
    "    logits, attentions = outputs.logits, outputs.attentions\n",
    "\n",
    "preds = torch.softmax(logits, dim=-1)\n",
    "\n",
    "id2lang = model.config.id2label\n",
    "vals, idxs = torch.max(preds, dim=1)\n",
    "{id2lang[k.item()]: v.item() for k, v in zip(idxs, vals)}"
   ]
  }
 ],
 "metadata": {
  "kernelspec": {
   "display_name": "devpt",
   "language": "python",
   "name": "python3"
  },
  "language_info": {
   "codemirror_mode": {
    "name": "ipython",
    "version": 3
   },
   "file_extension": ".py",
   "mimetype": "text/x-python",
   "name": "python",
   "nbconvert_exporter": "python",
   "pygments_lexer": "ipython3",
   "version": "3.12.9"
  }
 },
 "nbformat": 4,
 "nbformat_minor": 2
}
