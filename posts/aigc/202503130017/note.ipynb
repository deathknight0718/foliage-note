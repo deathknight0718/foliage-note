{
 "cells": [
  {
   "cell_type": "markdown",
   "metadata": {},
   "source": [
    "---\n",
    "title: \"人工智能 - 求导与反向传播\"\n",
    "date: 2025-05-05T21:40:32+08:00\n",
    "author: \"Liu Zheng\"\n",
    "tags: [\"笔记\", \"实验\"]\n",
    "categories: \"实验笔记\"\n",
    "---"
   ]
  },
  {
   "cell_type": "markdown",
   "metadata": {},
   "source": [
    "## 求导与反向传播"
   ]
  },
  {
   "cell_type": "markdown",
   "metadata": {},
   "source": [
    "假设等式 $ y = w^2 $ ， 当 $ w = 3 $ 时， $ y = 9 $\n",
    "\n",
    "给定 $ w $ 一个增量 $ \\varepsilon = 0.01 $ ，当 $ w = w + \\varepsilon $ 时， $ y = (3.01)^2 = 9.0601 = 9 + 6\\varepsilon + \\varepsilon^2 $\n",
    "\n",
    "给定 $ w $ 一个增量 $ \\varepsilon = 0.02 $ ，当 $ w = w + \\varepsilon $ 时， $ y = (3.02)^2 = 9.1204 = 9 + 6\\varepsilon + \\varepsilon^2 $\n",
    "\n",
    "也就是说当 $ \\varepsilon \\to 0  $ 时 $ \\frac{\\partial y}{\\partial w} = 6 = 2w $\n",
    "\n",
    "在进行梯度计算时，我们需要多次计算公式： $ w = w - \\alpha \\frac{\\partial J(\\vec{w}, b)}{\\partial w} $。由于学习率 $ \\alpha $ 足够小，我们可以确保每次更新都能逐步逼近最优解。"
   ]
  },
  {
   "cell_type": "code",
   "execution_count": 1,
   "metadata": {},
   "outputs": [],
   "source": [
    "import torch\n",
    "import pandas\n",
    "import numpy\n",
    "import matplotlib.pyplot as plt\n",
    "import time\n",
    "from sympy import latex, diff, symbols\n",
    "from IPython.display import display, Math\n",
    "from torch.utils.tensorboard import SummaryWriter\n",
    "\n",
    "plt.style.use('../matplotlib.mplstyle')\n",
    "\n",
    "# 设置 GPU\n",
    "DEVICE0, DEVICE1 = torch.device('cuda:0'), torch.device('cuda:1')"
   ]
  },
  {
   "cell_type": "code",
   "execution_count": 2,
   "metadata": {},
   "outputs": [],
   "source": [
    "J, w = symbols('J,w')"
   ]
  },
  {
   "cell_type": "code",
   "execution_count": 3,
   "metadata": {},
   "outputs": [
    {
     "data": {
      "text/latex": [
       "$\\displaystyle 函数：\\frac{1}{w}, 导数：- \\frac{1}{w^{2}}$"
      ],
      "text/plain": [
       "<IPython.core.display.Math object>"
      ]
     },
     "metadata": {},
     "output_type": "display_data"
    },
    {
     "data": {
      "text/latex": [
       "$\\displaystyle 函数：w^{2}, 导数：2 w$"
      ],
      "text/plain": [
       "<IPython.core.display.Math object>"
      ]
     },
     "metadata": {},
     "output_type": "display_data"
    },
    {
     "data": {
      "text/latex": [
       "$\\displaystyle 函数：w^{3}, 导数：3 w^{2}$"
      ],
      "text/plain": [
       "<IPython.core.display.Math object>"
      ]
     },
     "metadata": {},
     "output_type": "display_data"
    }
   ],
   "source": [
    "J = 1 / w ; display(Math(f\"函数：{latex(J)}, 导数：{latex(diff(J, w))}\"))\n",
    "\n",
    "J = w ** 2; display(Math(f\"函数：{latex(J)}, 导数：{latex(diff(J, w))}\"))\n",
    "\n",
    "J = w ** 3; display(Math(f\"函数：{latex(J)}, 导数：{latex(diff(J, w))}\"))"
   ]
  },
  {
   "cell_type": "markdown",
   "metadata": {},
   "source": [
    "接下来我们使用 `TensorBoard` 输出一个神经网络的计算图"
   ]
  },
  {
   "cell_type": "code",
   "execution_count": 4,
   "metadata": {},
   "outputs": [],
   "source": [
    "# 定义模型\n",
    "class SoftmaxRegression(torch.nn.Module):\n",
    "    def __init__(self):\n",
    "        super(SoftmaxRegression, self).__init__()\n",
    "        self.fc1 = torch.nn.Linear(4, 2)\n",
    "        self.fc2 = torch.nn.Linear(2, 3)\n",
    "    \n",
    "    def forward(self, x):\n",
    "        x = torch.nn.functional.relu(self.fc1(x))\n",
    "        return self.fc2(x)\n",
    "\n",
    "# 训练模型\n",
    "def train(writer, model, epochs, learning_rate, x, y):\n",
    "    running_loss = 0.0\n",
    "    # 定义损失函数和优化器, 我们使用 torch.nn.CrossEntropyLoss(output_logits, target)，它会自动处理 softmax 和对数运算\n",
    "    criterion, optimizer = torch.nn.CrossEntropyLoss(), torch.optim.SGD(model.parameters(), lr=learning_rate)\n",
    "    for epoch in range(epochs):\n",
    "        pred = model(x) # 前向传播\n",
    "        loss = criterion(pred, y) # 损失计算\n",
    "        optimizer.zero_grad() # 清除梯度\n",
    "        loss.backward() # 反向传播\n",
    "        optimizer.step() # 更新参数\n",
    "        running_loss += loss.item()\n",
    "        if (epoch + 1) % 10 == 0:\n",
    "            writer.add_scalar('training loss', loss.item(), epoch)\n",
    "            running_loss = 0.0"
   ]
  },
  {
   "cell_type": "code",
   "execution_count": 5,
   "metadata": {},
   "outputs": [],
   "source": [
    "# 使用 NumPy 执行标准化特征缩放\n",
    "def standardize(data):\n",
    "    mean = numpy.mean(data, axis=0)  # 计算均值\n",
    "    std = numpy.std(data, axis=0)    # 计算标准差\n",
    "    return (data - mean) / std\n",
    "\n",
    "# 计算准确率\n",
    "def accuracy(model, x, y):\n",
    "    with torch.no_grad():\n",
    "        pred = model(x)\n",
    "        correct = (torch.argmax(pred, 1) == y).sum().item()\n",
    "        return correct / y.size(0)"
   ]
  },
  {
   "cell_type": "code",
   "execution_count": 6,
   "metadata": {},
   "outputs": [
    {
     "data": {
      "text/html": [
       "<div>\n",
       "<style scoped>\n",
       "    .dataframe tbody tr th:only-of-type {\n",
       "        vertical-align: middle;\n",
       "    }\n",
       "\n",
       "    .dataframe tbody tr th {\n",
       "        vertical-align: top;\n",
       "    }\n",
       "\n",
       "    .dataframe thead th {\n",
       "        text-align: right;\n",
       "    }\n",
       "</style>\n",
       "<table border=\"1\" class=\"dataframe\">\n",
       "  <thead>\n",
       "    <tr style=\"text-align: right;\">\n",
       "      <th></th>\n",
       "      <th>sepal_length</th>\n",
       "      <th>sepal_width</th>\n",
       "      <th>petal_length</th>\n",
       "      <th>petal_width</th>\n",
       "      <th>species</th>\n",
       "    </tr>\n",
       "  </thead>\n",
       "  <tbody>\n",
       "    <tr>\n",
       "      <th>0</th>\n",
       "      <td>-0.900681</td>\n",
       "      <td>1.032057</td>\n",
       "      <td>-1.341272</td>\n",
       "      <td>-1.312977</td>\n",
       "      <td>0</td>\n",
       "    </tr>\n",
       "    <tr>\n",
       "      <th>1</th>\n",
       "      <td>-1.143017</td>\n",
       "      <td>-0.124958</td>\n",
       "      <td>-1.341272</td>\n",
       "      <td>-1.312977</td>\n",
       "      <td>0</td>\n",
       "    </tr>\n",
       "    <tr>\n",
       "      <th>2</th>\n",
       "      <td>-1.385353</td>\n",
       "      <td>0.337848</td>\n",
       "      <td>-1.398138</td>\n",
       "      <td>-1.312977</td>\n",
       "      <td>0</td>\n",
       "    </tr>\n",
       "    <tr>\n",
       "      <th>3</th>\n",
       "      <td>-1.506521</td>\n",
       "      <td>0.106445</td>\n",
       "      <td>-1.284407</td>\n",
       "      <td>-1.312977</td>\n",
       "      <td>0</td>\n",
       "    </tr>\n",
       "    <tr>\n",
       "      <th>4</th>\n",
       "      <td>-1.021849</td>\n",
       "      <td>1.263460</td>\n",
       "      <td>-1.341272</td>\n",
       "      <td>-1.312977</td>\n",
       "      <td>0</td>\n",
       "    </tr>\n",
       "    <tr>\n",
       "      <th>...</th>\n",
       "      <td>...</td>\n",
       "      <td>...</td>\n",
       "      <td>...</td>\n",
       "      <td>...</td>\n",
       "      <td>...</td>\n",
       "    </tr>\n",
       "    <tr>\n",
       "      <th>144</th>\n",
       "      <td>1.038005</td>\n",
       "      <td>0.569251</td>\n",
       "      <td>1.103953</td>\n",
       "      <td>1.710902</td>\n",
       "      <td>2</td>\n",
       "    </tr>\n",
       "    <tr>\n",
       "      <th>145</th>\n",
       "      <td>1.038005</td>\n",
       "      <td>-0.124958</td>\n",
       "      <td>0.819624</td>\n",
       "      <td>1.447956</td>\n",
       "      <td>2</td>\n",
       "    </tr>\n",
       "    <tr>\n",
       "      <th>146</th>\n",
       "      <td>0.553333</td>\n",
       "      <td>-1.281972</td>\n",
       "      <td>0.705893</td>\n",
       "      <td>0.922064</td>\n",
       "      <td>2</td>\n",
       "    </tr>\n",
       "    <tr>\n",
       "      <th>148</th>\n",
       "      <td>0.432165</td>\n",
       "      <td>0.800654</td>\n",
       "      <td>0.933356</td>\n",
       "      <td>1.447956</td>\n",
       "      <td>2</td>\n",
       "    </tr>\n",
       "    <tr>\n",
       "      <th>149</th>\n",
       "      <td>0.068662</td>\n",
       "      <td>-0.124958</td>\n",
       "      <td>0.762759</td>\n",
       "      <td>0.790591</td>\n",
       "      <td>2</td>\n",
       "    </tr>\n",
       "  </tbody>\n",
       "</table>\n",
       "<p>130 rows × 5 columns</p>\n",
       "</div>"
      ],
      "text/plain": [
       "     sepal_length  sepal_width  petal_length  petal_width  species\n",
       "0       -0.900681     1.032057     -1.341272    -1.312977        0\n",
       "1       -1.143017    -0.124958     -1.341272    -1.312977        0\n",
       "2       -1.385353     0.337848     -1.398138    -1.312977        0\n",
       "3       -1.506521     0.106445     -1.284407    -1.312977        0\n",
       "4       -1.021849     1.263460     -1.341272    -1.312977        0\n",
       "..            ...          ...           ...          ...      ...\n",
       "144      1.038005     0.569251      1.103953     1.710902        2\n",
       "145      1.038005    -0.124958      0.819624     1.447956        2\n",
       "146      0.553333    -1.281972      0.705893     0.922064        2\n",
       "148      0.432165     0.800654      0.933356     1.447956        2\n",
       "149      0.068662    -0.124958      0.762759     0.790591        2\n",
       "\n",
       "[130 rows x 5 columns]"
      ]
     },
     "metadata": {},
     "output_type": "display_data"
    },
    {
     "name": "stdout",
     "output_type": "stream",
     "text": [
      "Accuracy is: 95.00%\n"
     ]
    }
   ],
   "source": [
    "# 数据路径(鸢尾花数据集) & 模型路径加载\n",
    "PATH_DATASET = 'https://gairuo.com/file/data/dataset/iris.data'\n",
    "\n",
    "DATASET = pandas.read_csv(PATH_DATASET)\n",
    "DATASET['species'] = pandas.factorize(DATASET['species'])[0]\n",
    "DATASET['sepal_length'], DATASET['sepal_width'] = standardize(DATASET['sepal_length']), standardize(DATASET['sepal_width'])\n",
    "DATASET['petal_length'], DATASET['petal_width'] = standardize(DATASET['petal_length']), standardize(DATASET['petal_width'])\n",
    "\n",
    "DATASET_TEST = DATASET.sample(n=20)\n",
    "DATASET = DATASET.drop(DATASET_TEST.index)\n",
    "display(DATASET)\n",
    "\n",
    "X = torch.from_numpy(numpy.array(DATASET[['sepal_length', 'sepal_width', 'petal_length', 'petal_width']], dtype=numpy.float32)).to(DEVICE0)\n",
    "Y = torch.from_numpy(numpy.array(DATASET['species'].tolist(), dtype=numpy.long)).long().to(DEVICE0)\n",
    "\n",
    "MODEL = SoftmaxRegression().to(DEVICE0)\n",
    "WRITER = SummaryWriter(f\"runs/logs-{int(time.time())}\")\n",
    "WRITER.add_graph(MODEL, X)\n",
    "HISTORY = train(WRITER, MODEL, 100, 0.5, X, Y)\n",
    "    \n",
    "X_TEST = torch.from_numpy(numpy.array(DATASET_TEST[['sepal_length', 'sepal_width', 'petal_length', 'petal_width']], dtype=numpy.float32)).to(DEVICE0)\n",
    "Y_TEST = torch.from_numpy(numpy.array(DATASET_TEST['species'].tolist(), dtype=numpy.long)).long().to(DEVICE0)\n",
    "\n",
    "ACCURACY = accuracy(MODEL, X_TEST, Y_TEST)\n",
    "\n",
    "print(f\"Accuracy is: {ACCURACY * 100:.2f}%\")\n",
    "\n",
    "WRITER.close()"
   ]
  },
  {
   "cell_type": "markdown",
   "metadata": {},
   "source": [
    "### 反向传播的原理"
   ]
  },
  {
   "cell_type": "markdown",
   "metadata": {},
   "source": [
    "这里给出三层神经网络的传播示意图：\n",
    "\n",
    "![传播原理](./202503141905.png)"
   ]
  },
  {
   "cell_type": "code",
   "execution_count": 7,
   "metadata": {},
   "outputs": [],
   "source": [
    "# import manim\n",
    "# \n",
    "# class ManimLayer(manim.VGroup):\n",
    "#     def __init__(self, coordinate=(0, 0, 0), shape=(1, 1), **kwargs):\n",
    "#         super().__init__(**kwargs)\n",
    "#         text = manim.Text(str(shape), font=\"Sarasa Fixed SC\", font_size=24)\n",
    "#         instance = manim.RoundedRectangle(corner_radius=0.1, stroke_width=1).surround(text)\n",
    "#         self.add(instance, text)\n",
    "#         self.move_to(coordinate)\n",
    "# \n",
    "# class ManimNode(manim.VGroup):\n",
    "#     def __init__(self, coordinate=(0, 0, 0), text_latex = \"y = x^2\", **kwargs):\n",
    "#         super().__init__(**kwargs)\n",
    "#         text = manim.MathTex(text_latex)\n",
    "#         instance = manim.RoundedRectangle().surround(text)\n",
    "#         self.add(instance, text)\n",
    "#         self.move_to(coordinate)\n",
    "# \n",
    "# class ManimScene(manim.Scene):\n",
    "#     def construct(self):\n",
    "#         layer0 = ManimLayer(coordinate=(2, 0, 0))\n",
    "#         layer1 = ManimLayer(coordinate=(4, 0, 0))\n",
    "#         layer2 = ManimLayer(coordinate=(6, 0, 0))\n",
    "#         self.play(manim.FadeIn(layer0), manim.FadeIn(layer1), manim.FadeIn(layer2))"
   ]
  },
  {
   "cell_type": "code",
   "execution_count": 8,
   "metadata": {},
   "outputs": [],
   "source": [
    "# %manim -qm -v WARNING ManimScene"
   ]
  }
 ],
 "metadata": {
  "kernelspec": {
   "display_name": "devpt",
   "language": "python",
   "name": "python3"
  },
  "language_info": {
   "codemirror_mode": {
    "name": "ipython",
    "version": 3
   },
   "file_extension": ".py",
   "mimetype": "text/x-python",
   "name": "python",
   "nbconvert_exporter": "python",
   "pygments_lexer": "ipython3",
   "version": "3.12.9"
  }
 },
 "nbformat": 4,
 "nbformat_minor": 2
}
