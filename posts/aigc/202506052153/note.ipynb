{
 "cells": [
  {
   "cell_type": "markdown",
   "metadata": {},
   "source": [
    "---\n",
    "title: \"强化学习专题 - 时序差分方法\"\n",
    "date: 2025-06-06T23:22:00+08:00\n",
    "author: \"Liu Zheng\"\n",
    "tags: [\"笔记\", \"实验\", \"AI\", \"强化学习\"]\n",
    "categories: \"实验笔记\"\n",
    "---"
   ]
  },
  {
   "cell_type": "markdown",
   "metadata": {},
   "source": [
    "# 时序差分方法"
   ]
  },
  {
   "cell_type": "markdown",
   "metadata": {},
   "source": [
    "时序差分（TD）学习是强化学习中的一类核心方法，它结合了蒙特卡洛（MC）方法和动态规划（DP）的思想 。时序差分方法能够在不了解环境完整模型的情况下，通过从经验中学习来更新价值函数 。"
   ]
  },
  {
   "cell_type": "markdown",
   "metadata": {},
   "source": [
    "## 数学原理"
   ]
  }
 ],
 "metadata": {
  "kernelspec": {
   "display_name": "devpt",
   "language": "python",
   "name": "python3"
  },
  "language_info": {
   "name": "python",
   "version": "3.12.9"
  }
 },
 "nbformat": 4,
 "nbformat_minor": 2
}
