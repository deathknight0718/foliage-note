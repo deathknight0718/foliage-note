{
 "cells": [
  {
   "cell_type": "markdown",
   "metadata": {},
   "source": [
    "---\n",
    "title: \"人工智能 - 神经网络中的激活函数\"\n",
    "date: 2025-05-05T21:40:32+08:00\n",
    "author: \"Liu Zheng\"\n",
    "tags: [\"笔记\", \"实验\"]\n",
    "categories: \"实验笔记\"\n",
    "---"
   ]
  },
  {
   "cell_type": "markdown",
   "metadata": {},
   "source": [
    "## 神经网络中的激活函数"
   ]
  },
  {
   "cell_type": "markdown",
   "metadata": {},
   "source": [
    "| 名称 | 中译 | PyTorch 类 | 定义 | 优势 |\n",
    "|---|---|---|---|---|\n",
    "| **ReLU (Rectified Linear Unit)** | 修正线性单元 | `torch.nn.ReLU` | $ f(x)=max(0, x) $ | * 计算效率高<br> * 缓解梯度消失问题（在正区间）<br> * 在很多情况下表现良好 |\n",
    "| **Sigmoid** | Sigmoid 函数 (S 型函数) | `torch.nn.Sigmoid` | $ f(x)=\\frac{1}{1+e^{-x}} $ | * 输出范围在 0 到 1 之间，可以解释为概率<br> * 在二分类问题中常用 |\n",
    "| **Tanh (Hyperbolic Tangent)** | 双曲正切函数 | `torch.nn.Tanh` | $ f(x)=\\frac{e^x-e^{-x}}{e^x+e^{-x}} $ | * 输出范围在 -1 到 1 之间，均值为 0<br> * 有时比 Sigmoid 收敛更快 |\n",
    "| **LeakyReLU** | 带泄露修正线性单元 | `torch.nn.LeakyReLU` | $ f(x) = \\begin{cases} x, & \\text{for } x > 0 \\\\ \\alpha x, & \\text{for } x \\leq 0 \\end{cases} $ | * 解决了 ReLU 的“死亡 ReLU”问题<br> * 在负区间有小的非零梯度 |\n",
    "| **Softmax** | Softmax 函数 | `torch.nn.Softmax` | $ f(x_i)=\\frac{e^{x_i}}{\\sum_{j=1}^{K}e^{x_j}} $ | * 将输出转换为概率分布<br> * 通常用于多分类问题的输出层 |\n",
    "| **Softplus** | Softplus 函数 | `torch.nn.Softplus` | $ f(x)=\\ln(1 + e^x) $ | * ReLU 的平滑版本<br> * 处处可导 |\n",
    "| **ELU (Exponential Linear Unit)** | 指数线性单元 | `torch.nn.ELU` | $ f(x) = \\begin{cases} x & \\text{if } x > 0 \\\\ \\alpha (e^x - 1) & \\text{otherwise} \\end{cases} $ | * 解决了 ReLU 的“死亡 ReLU”问题<br> * 输出的均值接近于零，加速收敛 |\n",
    "| **PReLU (Parametric ReLU)** | 参数化修正线性单元 | `torch.nn.PReLU` | $ f(x) = \\begin{cases} x, & \\text{for } x > 0 \\\\ \\alpha x, & \\text{for } x \\leq 0 \\end{cases} $ | * LeakyReLU 的改进版本，负区间的斜率是可学习的参数<br> * 适应性更强 |\n",
    "| **GELU (Gaussian Error Linear Unit)** | 高斯误差线性单元 | `torch.nn.GELU` | $ f(x) = x \\cdot \\frac{1}{2} \\left[ 1 + \\text{erf} \\left( \\frac{x}{\\sqrt{2}} \\right) \\right] $ |   *   在 Transformer 模型中常用<br>    *   性能通常优于 ReLU 和 ELU |"
   ]
  },
  {
   "cell_type": "code",
   "execution_count": 1,
   "metadata": {},
   "outputs": [],
   "source": [
    "import torch\n",
    "import pandas\n",
    "import numpy\n",
    "import IPython.display\n",
    "import matplotlib.pyplot\n",
    "\n",
    "matplotlib.pyplot.style.use('../matplotlib.mplstyle')\n",
    "\n",
    "# 设置 GPU\n",
    "DEVICE0, DEVICE1 = torch.device('cuda:0'), torch.device('cuda:1')"
   ]
  },
  {
   "cell_type": "markdown",
   "metadata": {},
   "source": [
    "### 仿射变换\n",
    "\n",
    "仿射变换（Affine transformation），简单来说，就是在几何中，对一个向量空间进行一次线性变换并加上一个平移的变换。更详细地解释：\n",
    "\n",
    "* 是线性变换（如旋转、缩放）与平移的组合。\n",
    "* 数学公式：$ Y = WX + B $，其中 $ W $ 为线性变换矩阵，$ B $ 为平移向量。\n",
    "* 特性：保持直线、平行线，但不一定保持距离、角度。\n",
    "* 应用：广泛用于计算机图形学、图像处理、机器学习和机器人学中的坐标转换。\n",
    "\n",
    "需要注意的是，$ WX $ 表达式使用的是矩阵乘法，如果 $ W $ 为列向量（列矩阵），那么 $ W \\times B = W \\cdot B $\n",
    "\n",
    "将仿射变换应用于神经网络前向传播，是随着神经网络的发展而自然产生的。\n",
    "\n",
    "在深度学习领域，有一篇名为 [Spatial Transformer Networks](https://arxiv.org/abs/1506.02025) 的论文，深入地探讨和应用了仿射变换在神经网络中的作用，值得一提，这篇论文由 DeepMind 的 Max Jaderberg 等人于 2015 年发表。\n",
    "\n",
    "这里可以这么理解，对于线性函数而言，有一个特性就是线性函数与线性函数的叠加，无论多少层，最终的结果仍然是线性函数，它并不能计算非线性特征，而仿射变换可以说是最为基础的线性函数。\n",
    "\n",
    "如果要计算非线性特征，则需要在仿射变换基础之上叠加非线性函数，就像上面提到的激活函数。\n",
    "\n",
    "吴恩达在视频教程中谈论 [为什么需要激活函数](https://www.coursera.org/learn/advanced-learning-algorithms?specialization=machine-learning-introduction) 这一章节时，也提到了这一点。"
   ]
  },
  {
   "cell_type": "markdown",
   "metadata": {},
   "source": [
    "### 用于多分类的 Softmax 回归"
   ]
  },
  {
   "cell_type": "code",
   "execution_count": 2,
   "metadata": {},
   "outputs": [],
   "source": [
    "class SoftmaxRegression(torch.nn.Module):\n",
    "    def __init__(self, in_features, out_features):\n",
    "        super(SoftmaxRegression, self).__init__()\n",
    "        self.linear = torch.nn.Linear(in_features, out_features)\n",
    "    \n",
    "    def forward(self, x):\n",
    "        return self.linear(x)\n",
    "\n",
    "def train(model, epochs, learning_rate, x, y):\n",
    "    history = []\n",
    "    # 定义损失函数和优化器, 我们使用 torch.nn.CrossEntropyLoss(output_logits, target)，它会自动处理 softmax 和对数运算\n",
    "    criterion, optimizer = torch.nn.CrossEntropyLoss(), torch.optim.SGD(model.parameters(), lr=learning_rate)\n",
    "    for epoch in range(epochs):\n",
    "        pred = model(x) # 前向传播\n",
    "        loss = criterion(pred, y) # 损失计算\n",
    "        optimizer.zero_grad() # 清除梯度\n",
    "        loss.backward() # 反向传播\n",
    "        optimizer.step() # 更新参数\n",
    "        if (epoch + 1) % 10 == 0:\n",
    "            history.append([loss.item()])\n",
    "    return history"
   ]
  },
  {
   "cell_type": "code",
   "execution_count": 3,
   "metadata": {},
   "outputs": [],
   "source": [
    "# 使用 NumPy 执行标准化特征缩放\n",
    "def standardize(data):\n",
    "    mean = numpy.mean(data, axis=0)  # 计算均值\n",
    "    std = numpy.std(data, axis=0)    # 计算标准差\n",
    "    return (data - mean) / std"
   ]
  },
  {
   "cell_type": "code",
   "execution_count": 4,
   "metadata": {},
   "outputs": [
    {
     "data": {
      "text/html": [
       "<div>\n",
       "<style scoped>\n",
       "    .dataframe tbody tr th:only-of-type {\n",
       "        vertical-align: middle;\n",
       "    }\n",
       "\n",
       "    .dataframe tbody tr th {\n",
       "        vertical-align: top;\n",
       "    }\n",
       "\n",
       "    .dataframe thead th {\n",
       "        text-align: right;\n",
       "    }\n",
       "</style>\n",
       "<table border=\"1\" class=\"dataframe\">\n",
       "  <thead>\n",
       "    <tr style=\"text-align: right;\">\n",
       "      <th></th>\n",
       "      <th>sepal_length</th>\n",
       "      <th>sepal_width</th>\n",
       "      <th>petal_length</th>\n",
       "      <th>petal_width</th>\n",
       "      <th>species</th>\n",
       "      <th>sepal_area</th>\n",
       "      <th>petal_area</th>\n",
       "    </tr>\n",
       "  </thead>\n",
       "  <tbody>\n",
       "    <tr>\n",
       "      <th>0</th>\n",
       "      <td>5.1</td>\n",
       "      <td>3.5</td>\n",
       "      <td>1.4</td>\n",
       "      <td>0.2</td>\n",
       "      <td>0</td>\n",
       "      <td>0.012946</td>\n",
       "      <td>-1.173566</td>\n",
       "    </tr>\n",
       "    <tr>\n",
       "      <th>1</th>\n",
       "      <td>4.9</td>\n",
       "      <td>3.0</td>\n",
       "      <td>1.4</td>\n",
       "      <td>0.2</td>\n",
       "      <td>0</td>\n",
       "      <td>-0.925267</td>\n",
       "      <td>-1.173566</td>\n",
       "    </tr>\n",
       "    <tr>\n",
       "      <th>2</th>\n",
       "      <td>4.7</td>\n",
       "      <td>3.2</td>\n",
       "      <td>1.3</td>\n",
       "      <td>0.2</td>\n",
       "      <td>0</td>\n",
       "      <td>-0.824000</td>\n",
       "      <td>-1.177823</td>\n",
       "    </tr>\n",
       "    <tr>\n",
       "      <th>3</th>\n",
       "      <td>4.6</td>\n",
       "      <td>3.1</td>\n",
       "      <td>1.5</td>\n",
       "      <td>0.2</td>\n",
       "      <td>0</td>\n",
       "      <td>-1.056319</td>\n",
       "      <td>-1.169309</td>\n",
       "    </tr>\n",
       "    <tr>\n",
       "      <th>4</th>\n",
       "      <td>5.0</td>\n",
       "      <td>3.6</td>\n",
       "      <td>1.4</td>\n",
       "      <td>0.2</td>\n",
       "      <td>0</td>\n",
       "      <td>0.057623</td>\n",
       "      <td>-1.173566</td>\n",
       "    </tr>\n",
       "    <tr>\n",
       "      <th>...</th>\n",
       "      <td>...</td>\n",
       "      <td>...</td>\n",
       "      <td>...</td>\n",
       "      <td>...</td>\n",
       "      <td>...</td>\n",
       "      <td>...</td>\n",
       "      <td>...</td>\n",
       "    </tr>\n",
       "    <tr>\n",
       "      <th>145</th>\n",
       "      <td>6.7</td>\n",
       "      <td>3.0</td>\n",
       "      <td>5.2</td>\n",
       "      <td>2.3</td>\n",
       "      <td>2</td>\n",
       "      <td>0.683099</td>\n",
       "      <td>1.312725</td>\n",
       "    </tr>\n",
       "    <tr>\n",
       "      <th>146</th>\n",
       "      <td>6.3</td>\n",
       "      <td>2.5</td>\n",
       "      <td>5.0</td>\n",
       "      <td>1.9</td>\n",
       "      <td>2</td>\n",
       "      <td>-0.612529</td>\n",
       "      <td>0.789071</td>\n",
       "    </tr>\n",
       "    <tr>\n",
       "      <th>147</th>\n",
       "      <td>6.5</td>\n",
       "      <td>3.0</td>\n",
       "      <td>5.2</td>\n",
       "      <td>2.0</td>\n",
       "      <td>2</td>\n",
       "      <td>0.504392</td>\n",
       "      <td>0.980652</td>\n",
       "    </tr>\n",
       "    <tr>\n",
       "      <th>148</th>\n",
       "      <td>6.2</td>\n",
       "      <td>3.4</td>\n",
       "      <td>5.4</td>\n",
       "      <td>2.3</td>\n",
       "      <td>2</td>\n",
       "      <td>0.974987</td>\n",
       "      <td>1.410644</td>\n",
       "    </tr>\n",
       "    <tr>\n",
       "      <th>149</th>\n",
       "      <td>5.9</td>\n",
       "      <td>3.0</td>\n",
       "      <td>5.1</td>\n",
       "      <td>1.8</td>\n",
       "      <td>2</td>\n",
       "      <td>-0.031730</td>\n",
       "      <td>0.720953</td>\n",
       "    </tr>\n",
       "  </tbody>\n",
       "</table>\n",
       "<p>150 rows × 7 columns</p>\n",
       "</div>"
      ],
      "text/plain": [
       "     sepal_length  sepal_width  petal_length  petal_width  species  \\\n",
       "0             5.1          3.5           1.4          0.2        0   \n",
       "1             4.9          3.0           1.4          0.2        0   \n",
       "2             4.7          3.2           1.3          0.2        0   \n",
       "3             4.6          3.1           1.5          0.2        0   \n",
       "4             5.0          3.6           1.4          0.2        0   \n",
       "..            ...          ...           ...          ...      ...   \n",
       "145           6.7          3.0           5.2          2.3        2   \n",
       "146           6.3          2.5           5.0          1.9        2   \n",
       "147           6.5          3.0           5.2          2.0        2   \n",
       "148           6.2          3.4           5.4          2.3        2   \n",
       "149           5.9          3.0           5.1          1.8        2   \n",
       "\n",
       "     sepal_area  petal_area  \n",
       "0      0.012946   -1.173566  \n",
       "1     -0.925267   -1.173566  \n",
       "2     -0.824000   -1.177823  \n",
       "3     -1.056319   -1.169309  \n",
       "4      0.057623   -1.173566  \n",
       "..          ...         ...  \n",
       "145    0.683099    1.312725  \n",
       "146   -0.612529    0.789071  \n",
       "147    0.504392    0.980652  \n",
       "148    0.974987    1.410644  \n",
       "149   -0.031730    0.720953  \n",
       "\n",
       "[150 rows x 7 columns]"
      ]
     },
     "metadata": {},
     "output_type": "display_data"
    }
   ],
   "source": [
    "# 数据路径(鸢尾花数据集) & 模型路径加载\n",
    "PATH_DATASET = 'https://gairuo.com/file/data/dataset/iris.data'\n",
    "\n",
    "DATASET = pandas.read_csv(PATH_DATASET)\n",
    "DATASET['species'] = pandas.factorize(DATASET['species'])[0]\n",
    "DATASET['sepal_area'] = standardize(DATASET['sepal_length'] * DATASET['sepal_width']) # 计算花萼面积\n",
    "DATASET['petal_area'] = standardize(DATASET['petal_length'] * DATASET['petal_width']) # 计算花瓣面积\n",
    "IPython.display.display(DATASET)\n",
    "\n",
    "X = torch.from_numpy(numpy.array(DATASET[[\"sepal_area\", \"petal_area\"]], dtype=numpy.float32)).to(DEVICE0)\n",
    "Y = torch.from_numpy(numpy.array(DATASET[\"species\"].tolist(), dtype=numpy.long)).long().to(DEVICE0)\n",
    "\n",
    "MODEL = SoftmaxRegression(2, 3).to(DEVICE0)\n",
    "HISTORY = train(MODEL, 400, 0.5, X, Y)"
   ]
  },
  {
   "cell_type": "code",
   "execution_count": 5,
   "metadata": {},
   "outputs": [],
   "source": [
    "def calc_decision_boundary(weights, biases, c1, c2):\n",
    "    weight1, bias1 = weights[c1], biases[c1]\n",
    "    weight2, bias2 = weights[c2], biases[c2]\n",
    "    return (weight1[0] - weight2[0]) / (weight2[1] - weight1[1]), (bias2 - bias1) / (weight2[1] - weight1[1])\n",
    "\n",
    "def draw_gradient_descent_cost_history(figure, history):\n",
    "    axes = figure.add_subplot(1, 2, 1)\n",
    "    axes.plot(history, label=\"Cost\")\n",
    "    axes.set_title(\"Gradient Descent Cost History\")\n",
    "    axes.set_ylabel(\"Cost\")\n",
    "    axes.set_xlabel(\"Iteration\")\n",
    "    axes.legend()\n",
    "\n",
    "def draw_feature_distribution(figure, model, x, y):\n",
    "    weights, biases = MODEL.state_dict()[\"linear.weight\"].cpu().detach().numpy(), MODEL.state_dict()[\"linear.bias\"].cpu().detach().numpy()\n",
    "    axes = figure.add_subplot(1, 2, 2)\n",
    "    mask0 = (y == 0).squeeze() # 布尔掩码 Y = 0\n",
    "    mask1 = (y == 1).squeeze() # 布尔掩码 Y = 1\n",
    "    mask2 = (y == 2).squeeze() # 布尔掩码 Y = 2\n",
    "    xrange = numpy.linspace(x[:, 0].min(), x[:, 0].max(), 10)\n",
    "    w1, b1 = calc_decision_boundary(weights, biases, 0, 1)\n",
    "    w2, b2 = calc_decision_boundary(weights, biases, 0, 2)\n",
    "    w3, b3 = calc_decision_boundary(weights, biases, 1, 2)\n",
    "    axes.plot(xrange, w1 * xrange + b1, label='Boundary01')\n",
    "    axes.plot(xrange, w2 * xrange + b2, label='Boundary02')\n",
    "    axes.plot(xrange, w3 * xrange + b3, label='Boundary12')\n",
    "    axes.scatter(x[mask0, 0], x[mask0, 1], marker=\"x\", c=\"r\", label=\"P0\")\n",
    "    axes.scatter(x[mask1, 0], x[mask1, 1], marker=\"o\", c=\"r\", label=\"P1\")\n",
    "    axes.scatter(x[mask2, 0], x[mask2, 1], marker=\"^\", c=\"r\", label=\"P2\")\n",
    "    axes.set_title(\"Feature Distribution\")\n",
    "    axes.set_ylabel(\"X1\")\n",
    "    axes.set_xlabel(\"X0\")\n",
    "    axes.legend()"
   ]
  },
  {
   "cell_type": "code",
   "execution_count": 6,
   "metadata": {},
   "outputs": [
    {
     "data": {
      "image/png": "[encoded data removed]",
      "text/plain": [
       "<Figure size 1600x600 with 2 Axes>"
      ]
     },
     "metadata": {},
     "output_type": "display_data"
    }
   ],
   "source": [
    "FIGURE = matplotlib.pyplot.figure(figsize=(16, 6))\n",
    "draw_gradient_descent_cost_history(FIGURE, HISTORY)\n",
    "draw_feature_distribution(FIGURE, MODEL, X.cpu().detach().numpy(), Y.cpu().detach().numpy())\n",
    "\n",
    "matplotlib.pyplot.show()"
   ]
  },
  {
   "cell_type": "markdown",
   "metadata": {},
   "source": [
    "### 数值计算的优化\n",
    "\n",
    "参考下面的代码，这是因为浮点型运算损失了精度："
   ]
  },
  {
   "cell_type": "code",
   "execution_count": 7,
   "metadata": {},
   "outputs": [
    {
     "name": "stdout",
     "output_type": "stream",
     "text": [
      "0.0002:.18f\n",
      "0.00019999999999997797:.18f\n"
     ]
    }
   ],
   "source": [
    "print(f\"{2 / 10000}:.18f\")\n",
    "print(f\"{(1 + 1 / 10000) - (1 - 1 / 10000)}:.18f\")"
   ]
  },
  {
   "cell_type": "markdown",
   "metadata": {},
   "source": [
    "所以对于组合函数计算式（如 `sigmoid` ）在 `python` 计算时会出现明显的精度丢失：\n",
    "\n",
    "$$\n",
    "\\begin{align*}\n",
    "loss &= -y\\log{(\\alpha)} - (1 - y)\\log{(1 - \\alpha)}, \\alpha = g(z) = \\frac{1}{1 + e^{-z}} \\tag{Loss of Precision} \\\\\n",
    "loss &= -y\\log{(\\frac{1}{1 + e^{-z}})} - (1 - y)\\log{(1 - \\frac{1}{1 + e^{-z}})}\n",
    "\\end{align*}\n",
    "$$\n",
    "\n",
    "所以对于 `TensorFlow` 中使用 `SparseCategoricalCrossentropy(from_logits=True)` 可以在数值上提高稳定性，避免精度丢失。\n",
    "\n",
    "当使用 `torch.nn.CrossEntropyLoss()` 作为损失函数，并且模型的最后一层输出的是 `logits`（未经过 `softmax` 激活函数转换的数值）时，`PyTorch` 会自动在内部处理 `softmax` 和交叉熵的计算，从而实现了数值稳定性，避免了精度丢失。"
   ]
  }
 ],
 "metadata": {
  "kernelspec": {
   "display_name": "devpt",
   "language": "python",
   "name": "python3"
  },
  "language_info": {
   "codemirror_mode": {
    "name": "ipython",
    "version": 3
   },
   "file_extension": ".py",
   "mimetype": "text/x-python",
   "name": "python",
   "nbconvert_exporter": "python",
   "pygments_lexer": "ipython3",
   "version": "3.12.9"
  }
 },
 "nbformat": 4,
 "nbformat_minor": 2
}
