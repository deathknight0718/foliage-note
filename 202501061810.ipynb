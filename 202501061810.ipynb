{
 "cells": [
  {
   "cell_type": "markdown",
   "metadata": {},
   "source": [
    "## 多元线性回归"
   ]
  },
  {
   "cell_type": "markdown",
   "metadata": {
    "vscode": {
     "languageId": "ini"
    }
   },
   "source": [
    "多元线性回归是一种统计技术，用于通过多个自变量预测因变量的值。"
   ]
  },
  {
   "cell_type": "code",
   "execution_count": 1,
   "metadata": {},
   "outputs": [],
   "source": [
    "import numpy\n",
    "import matplotlib.pyplot\n",
    "import pandas\n",
    "\n",
    "matplotlib.pyplot.style.use(\"matplotlib.mplstyle\")"
   ]
  },
  {
   "cell_type": "markdown",
   "metadata": {},
   "source": [
    "### 将数据转换为矩阵\n",
    "\n",
    "矩阵$ X $表示形式如下：\n",
    "\n",
    "$$\n",
    "X=\\begin{pmatrix}\n",
    "    x_0^{(0)}&x_1^{(0)}&...&x_{n-1}^{(0)} \\\\\n",
    "    x_0^{(1)}&x_1^{(1)}&...&x_{n-1}^{(1)} \\\\\n",
    "    ... \\\\\n",
    "    x_0^{(m-1)}&x_1^{(m-1)}&...&x_{n-1}^{(m-1)} \\\\\n",
    "\\end{pmatrix}\n",
    "$$"
   ]
  },
  {
   "cell_type": "code",
   "execution_count": 2,
   "metadata": {},
   "outputs": [],
   "source": [
    "data = pandas.read_csv(\"data/202501061035.csv\")\n",
    "\n",
    "X = (data[[\"size\", \"rooms\"]]).to_numpy()\n",
    "Y = (data[\"price\"]/1000).to_numpy()"
   ]
  },
  {
   "cell_type": "markdown",
   "metadata": {},
   "source": [
    "设置变量$ W $如下：\n",
    "\n",
    "$$\n",
    "W=\\begin{pmatrix}\n",
    "    w_0 \\\\\n",
    "    w_1 \\\\\n",
    "    ... \\\\\n",
    "    w_{n-1}\n",
    "\\end{pmatrix}\n",
    "$$"
   ]
  },
  {
   "cell_type": "markdown",
   "metadata": {},
   "source": [
    "### 多元线性回归相关公式\n",
    "\n",
    "|名称|定义|\n",
    "|-|-|\n",
    "|多元线性函数|$ f_{W,B}(X^{(i)})=W\\cdot{X^{(i)}}+B $|\n",
    "|均方误差公式|$ MSE(W,B)=\\frac{1}{2n}\\sum_{i=1}^n(f_{W,B}(X^{(i)}) - \\hat{Y}^{(i)})^2 $|\n",
    "|梯度下降公式|$ W=W-\\alpha\\cdot\\frac{\\partial{MSE(W,B)}}{\\partial{W}},B=B-\\alpha\\cdot\\frac{\\partial{MSE(W,B)}}{\\partial{B}} $|"
   ]
  },
  {
   "cell_type": "code",
   "execution_count": 3,
   "metadata": {},
   "outputs": [],
   "source": [
    "import math\n",
    "\n",
    "def compute_mse(X, Y, w, b):\n",
    "    n = X.shape[0]\n",
    "    f_wb = numpy.dot(X, w) + b\n",
    "    mse = numpy.sum((f_wb - Y) ** 2) / (2 * n)\n",
    "    return mse\n",
    "\n",
    "def compute_gradient(X, Y, w, b):\n",
    "    n = X.shape[0]\n",
    "    f_wb = numpy.dot(X, w) + b\n",
    "    dw = numpy.dot(X.T, (f_wb - Y)) / n\n",
    "    db = numpy.sum(f_wb - Y) / n\n",
    "    return dw, db\n",
    "\n",
    "def compute_gradient_descent(X, Y, alpha, iters):\n",
    "    tw, tb = numpy.zeros(X.shape[1]), 0\n",
    "    history = []\n",
    "    for i in range(iters):\n",
    "        dw, db = compute_gradient(X, Y, tw, tb)\n",
    "        tw = tw - alpha * dw\n",
    "        tb = tb - alpha * db\n",
    "        if i % math.ceil(iters / 20) == 0:\n",
    "            mse = compute_mse(X, Y, tw, tb)\n",
    "            history.append([i, mse])\n",
    "            print(f\"mse:{mse:8.2f}\")\n",
    "    return tw, tb, numpy.array(history)"
   ]
  },
  {
   "cell_type": "code",
   "execution_count": null,
   "metadata": {},
   "outputs": [],
   "source": [
    "fw, fb, history = compute_gradient_descent(X, Y, 5.0e-10, 4000)\n",
    "\n",
    "print(f\"w: {fw}, b: {fb}\")"
   ]
  },
  {
   "cell_type": "code",
   "execution_count": null,
   "metadata": {},
   "outputs": [],
   "source": [
    "matplotlib.pyplot.plot(history[:, 0], history[:, 1], linestyle='-', color='b', label='MSE Line')\n",
    "matplotlib.pyplot.scatter(history[:, 0], history[:, 1], marker=\"x\", c=\"r\")\n",
    "matplotlib.pyplot.title(\"Gradient Descent MSE History\")\n",
    "matplotlib.pyplot.ylabel(\"MSE\")\n",
    "matplotlib.pyplot.xlabel(\"Iteration\")\n",
    "matplotlib.pyplot.show()"
   ]
  },
  {
   "cell_type": "code",
   "execution_count": null,
   "metadata": {},
   "outputs": [],
   "source": [
    "sample = [2132, 4]\n",
    "price = numpy.dot(sample, fw) + fb\n",
    "print(f\"Price for {sample[0]} sqft and {sample[1]} rooms: {price:.2f}k\")"
   ]
  }
 ],
 "metadata": {
  "kernelspec": {
   "display_name": "dev01",
   "language": "python",
   "name": "python3"
  },
  "language_info": {
   "codemirror_mode": {
    "name": "ipython",
    "version": 3
   },
   "file_extension": ".py",
   "mimetype": "text/x-python",
   "name": "python",
   "nbconvert_exporter": "python",
   "pygments_lexer": "ipython3",
   "version": "3.12.7"
  }
 },
 "nbformat": 4,
 "nbformat_minor": 2
}
